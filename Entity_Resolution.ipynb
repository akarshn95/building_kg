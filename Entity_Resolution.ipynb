{
 "cells": [
  {
   "cell_type": "markdown",
   "metadata": {},
   "source": [
    "## Entity Resoultion using PyPi Edit Distance"
   ]
  },
  {
   "cell_type": "code",
   "execution_count": 1,
   "metadata": {},
   "outputs": [],
   "source": [
    "import edit_distance\n",
    "import pandas as pd"
   ]
  },
  {
   "cell_type": "code",
   "execution_count": 2,
   "metadata": {},
   "outputs": [],
   "source": [
    "actual_names = ['Los Angeles','New York City','Bangalore','Mumbai','Chennai','Kolkata','New Delhi',\\\n",
    "                'Saint Petersburg','Melbourne','Gothenburg','Vienna','Barcelona','Las Vegas']\n",
    "\n",
    "input_names = ['City of Los Angeles','New York','Bengaluru','Bombay','Madras','Calutta','Delhi',\\\n",
    "               'St. Petersburg','Melborne','Goteborg','Wien','Barca', 'Las Vegas']"
   ]
  },
  {
   "cell_type": "code",
   "execution_count": 3,
   "metadata": {},
   "outputs": [],
   "source": [
    "def edit_dist_metrics(actual_names, input_names, threshold):\n",
    "    '''\n",
    "    input:  list : actual_names list\n",
    "            list : input_names list\n",
    "            float : threshold value for similarity score 0 <= threshold <= 1\n",
    "            \n",
    "    The function compares every string in actual_names with every string in input_names\n",
    "    using edit_distance and provides a similarity score. If the score is more than or equal to a \n",
    "    given threshold, the two strings are matched as the same entity and compared with ground truth results.\n",
    "    The results, precision and recall is printed out.\n",
    "    '''\n",
    "    res = []\n",
    "    for i, a_name in enumerate(actual_names):\n",
    "        for j, i_name in enumerate(input_names):\n",
    "            r = edit_distance.SequenceMatcher(a_name.lower(), i_name.lower()).ratio()\n",
    "            if r >= threshold:\n",
    "                res.append([i_name, a_name, r, i==j])\n",
    "\n",
    "    df = pd.DataFrame(res, columns=['Input Name','Predicted Name','Similarity Score','Ground Truth'])\n",
    "    precision = round(sum(df['Ground Truth'])/len(df),3)\n",
    "    recall = round(sum(df['Ground Truth'])/len(actual_names),3)\n",
    "    print(df,'\\n')\n",
    "    print(\"Precision: \"+str(precision))\n",
    "    print(\"Recall: \"+str(recall))\n",
    "    return"
   ]
  },
  {
   "cell_type": "markdown",
   "metadata": {},
   "source": [
    "### The entity resolution is run for different threshold values"
   ]
  },
  {
   "cell_type": "markdown",
   "metadata": {},
   "source": [
    "### The function takes in a threshold value which is the similarity score for a pair of strings above which they are predicted as matches. The threshold value can range from 0 to 1 where 1 is a perfect match."
   ]
  },
  {
   "cell_type": "code",
   "execution_count": 4,
   "metadata": {},
   "outputs": [
    {
     "name": "stdout",
     "output_type": "stream",
     "text": [
      "             Input Name    Predicted Name  Similarity Score  Ground Truth\n",
      "0   City of Los Angeles       Los Angeles          0.733333          True\n",
      "1             Las Vegas       Los Angeles          0.500000         False\n",
      "2              New York     New York City          0.761905          True\n",
      "3             Bengaluru         Bangalore          0.666667          True\n",
      "4                 Barca         Bangalore          0.428571         False\n",
      "5                Bombay            Mumbai          0.500000          True\n",
      "6               Calutta           Kolkata          0.428571          True\n",
      "7              New York         New Delhi          0.470588         False\n",
      "8                 Delhi         New Delhi          0.714286          True\n",
      "9        St. Petersburg  Saint Petersburg          0.800000          True\n",
      "10             Goteborg  Saint Petersburg          0.416667         False\n",
      "11             Melborne         Melbourne          0.941176          True\n",
      "12       St. Petersburg        Gothenburg          0.416667         False\n",
      "13             Goteborg        Gothenburg          0.777778          True\n",
      "14            Bengaluru            Vienna          0.400000         False\n",
      "15                 Wien            Vienna          0.600000          True\n",
      "16             Melborne         Barcelona          0.470588         False\n",
      "17                Barca         Barcelona          0.714286          True\n",
      "18               Madras         Las Vegas          0.400000         False\n",
      "19            Las Vegas         Las Vegas          1.000000          True \n",
      "\n",
      "Precision: 0.6\n",
      "Recall: 0.923\n"
     ]
    }
   ],
   "source": [
    "edit_dist_metrics(actual_names,input_names,0.4)"
   ]
  },
  {
   "cell_type": "code",
   "execution_count": 5,
   "metadata": {},
   "outputs": [
    {
     "name": "stdout",
     "output_type": "stream",
     "text": [
      "             Input Name    Predicted Name  Similarity Score  Ground Truth\n",
      "0   City of Los Angeles       Los Angeles          0.733333          True\n",
      "1             Las Vegas       Los Angeles          0.500000         False\n",
      "2              New York     New York City          0.761905          True\n",
      "3             Bengaluru         Bangalore          0.666667          True\n",
      "4                Bombay            Mumbai          0.500000          True\n",
      "5                 Delhi         New Delhi          0.714286          True\n",
      "6        St. Petersburg  Saint Petersburg          0.800000          True\n",
      "7              Melborne         Melbourne          0.941176          True\n",
      "8              Goteborg        Gothenburg          0.777778          True\n",
      "9                  Wien            Vienna          0.600000          True\n",
      "10                Barca         Barcelona          0.714286          True\n",
      "11            Las Vegas         Las Vegas          1.000000          True \n",
      "\n",
      "Precision: 0.917\n",
      "Recall: 0.846\n"
     ]
    }
   ],
   "source": [
    "edit_dist_metrics(actual_names,input_names,0.5)"
   ]
  },
  {
   "cell_type": "code",
   "execution_count": 6,
   "metadata": {},
   "outputs": [
    {
     "name": "stdout",
     "output_type": "stream",
     "text": [
      "            Input Name    Predicted Name  Similarity Score  Ground Truth\n",
      "0  City of Los Angeles       Los Angeles          0.733333          True\n",
      "1             New York     New York City          0.761905          True\n",
      "2            Bengaluru         Bangalore          0.666667          True\n",
      "3                Delhi         New Delhi          0.714286          True\n",
      "4       St. Petersburg  Saint Petersburg          0.800000          True\n",
      "5             Melborne         Melbourne          0.941176          True\n",
      "6             Goteborg        Gothenburg          0.777778          True\n",
      "7                 Wien            Vienna          0.600000          True\n",
      "8                Barca         Barcelona          0.714286          True\n",
      "9            Las Vegas         Las Vegas          1.000000          True \n",
      "\n",
      "Precision: 1.0\n",
      "Recall: 0.769\n"
     ]
    }
   ],
   "source": [
    "edit_dist_metrics(actual_names,input_names,0.6)"
   ]
  },
  {
   "cell_type": "code",
   "execution_count": 7,
   "metadata": {},
   "outputs": [
    {
     "name": "stdout",
     "output_type": "stream",
     "text": [
      "            Input Name    Predicted Name  Similarity Score  Ground Truth\n",
      "0  City of Los Angeles       Los Angeles          0.733333          True\n",
      "1             New York     New York City          0.761905          True\n",
      "2                Delhi         New Delhi          0.714286          True\n",
      "3       St. Petersburg  Saint Petersburg          0.800000          True\n",
      "4             Melborne         Melbourne          0.941176          True\n",
      "5             Goteborg        Gothenburg          0.777778          True\n",
      "6                Barca         Barcelona          0.714286          True\n",
      "7            Las Vegas         Las Vegas          1.000000          True \n",
      "\n",
      "Precision: 1.0\n",
      "Recall: 0.615\n"
     ]
    }
   ],
   "source": [
    "edit_dist_metrics(actual_names,input_names,0.7)"
   ]
  },
  {
   "cell_type": "markdown",
   "metadata": {},
   "source": [
    "### As the threshold increases, we can see that the precision increases but the recall decreases. A threshold value of 0.6 is ideal as it gives 100% precision with a good recall."
   ]
  },
  {
   "cell_type": "markdown",
   "metadata": {},
   "source": [
    "### This threshold of 0.6 can comfortably resolve names local names against official names like 'Goteborg' v 'Gothernburg' and 'Bangalore' v 'Bengaluru' while disambiguating similar but different names like 'Los Angeles' and 'Las Vegas' . It also resolves spelling mistakes like 'Melborne' and short form of names like 'St. Petersburg'."
   ]
  }
 ],
 "metadata": {
  "kernelspec": {
   "display_name": "Python 3",
   "language": "python",
   "name": "python3"
  },
  "language_info": {
   "codemirror_mode": {
    "name": "ipython",
    "version": 3
   },
   "file_extension": ".py",
   "mimetype": "text/x-python",
   "name": "python",
   "nbconvert_exporter": "python",
   "pygments_lexer": "ipython3",
   "version": "3.8.5"
  }
 },
 "nbformat": 4,
 "nbformat_minor": 4
}
